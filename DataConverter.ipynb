{
 "cells": [
  {
   "cell_type": "code",
   "execution_count": 1,
   "metadata": {},
   "outputs": [],
   "source": [
    "import pandas as pd\n",
    "import re\n",
    "import string\n",
    "# from nltk.corpus import stopwords\n",
    "# from nltk.tokenize import word_tokenize\n",
    "\n",
    "# #list of words to filter out of statements\n",
    "# stop_words = set(stopwords.words('english'))"
   ]
  },
  {
   "cell_type": "code",
   "execution_count": 2,
   "metadata": {},
   "outputs": [],
   "source": [
    "data = '['\n",
    "\n",
    "with open('All_Beauty_5.json') as file: #open file and read all lines\n",
    "    for line in file:\n",
    "        data += line + ','\n",
    "\n",
    "data = data[:-1] + ']'\n",
    "\n",
    "data_df = pd.read_json(data)\n",
    "data_df['reviewText'] = data_df['reviewText'].str.replace('\\n', ' ') #replace new lines\n",
    "data_df.update(\"'\" + data_df[['reviewText', 'summary']].astype(str) + \"'\") #Convert to string\n",
    "data_df[['overall','summary', 'reviewText']].to_csv('reviews.csv', index=False) #keep only important columns (overall=label summary= feature reviewText= feature)"
   ]
  }
 ],
 "metadata": {
  "kernelspec": {
   "display_name": "Python 3",
   "language": "python",
   "name": "python3"
  },
  "language_info": {
   "codemirror_mode": {
    "name": "ipython",
    "version": 3
   },
   "file_extension": ".py",
   "mimetype": "text/x-python",
   "name": "python",
   "nbconvert_exporter": "python",
   "pygments_lexer": "ipython3",
   "version": "3.10.8"
  },
  "orig_nbformat": 4,
  "vscode": {
   "interpreter": {
    "hash": "e40e1568295c61aa96747a4474d50392deaab7834344f34cec5fab5ca53523ba"
   }
  }
 },
 "nbformat": 4,
 "nbformat_minor": 2
}
